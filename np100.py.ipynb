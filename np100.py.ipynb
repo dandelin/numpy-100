{
 "cells": [
  {
   "cell_type": "markdown",
   "metadata": {},
   "source": [
    "### 원본 : https://github.com/rougier/numpy-100\n",
    "### 한국어 Python 2.7 버전 譯 : https://github.com/dandelin/numpy-100\n",
    "\n",
    "1\\. numpy import하기"
   ]
  },
  {
   "cell_type": "code",
   "execution_count": 1,
   "metadata": {
    "collapsed": true
   },
   "outputs": [],
   "source": [
    "import numpy as np"
   ]
  },
  {
   "cell_type": "markdown",
   "metadata": {},
   "source": [
    "2\\. numpy 버전과 설정 출력하기"
   ]
  },
  {
   "cell_type": "code",
   "execution_count": 2,
   "metadata": {
    "collapsed": false
   },
   "outputs": [
    {
     "name": "stdout",
     "output_type": "stream",
     "text": [
      "1.10.1\n",
      "lapack_opt_info:\n",
      "    libraries = ['mkl_lapack95_lp64', 'mkl_blas95_lp64', 'mkl_intel_lp64', 'mkl_intel_thread', 'mkl_core', 'libiomp5md', 'libifportmd', 'mkl_lapack95_lp64', 'mkl_blas95_lp64', 'mkl_intel_lp64', 'mkl_intel_thread', 'mkl_core', 'libiomp5md', 'libifportmd']\n",
      "    library_dirs = ['C:/Program Files (x86)/Intel/Composer XE/mkl/lib/intel64']\n",
      "    define_macros = [('SCIPY_MKL_H', None), ('HAVE_CBLAS', None)]\n",
      "    include_dirs = ['C:/Program Files (x86)/Intel/Composer XE/mkl/include']\n",
      "blas_opt_info:\n",
      "    libraries = ['mkl_lapack95_lp64', 'mkl_blas95_lp64', 'mkl_intel_lp64', 'mkl_intel_thread', 'mkl_core', 'libiomp5md', 'libifportmd']\n",
      "    library_dirs = ['C:/Program Files (x86)/Intel/Composer XE/mkl/lib/intel64']\n",
      "    define_macros = [('SCIPY_MKL_H', None), ('HAVE_CBLAS', None)]\n",
      "    include_dirs = ['C:/Program Files (x86)/Intel/Composer XE/mkl/include']\n",
      "openblas_lapack_info:\n",
      "  NOT AVAILABLE\n",
      "lapack_mkl_info:\n",
      "    libraries = ['mkl_lapack95_lp64', 'mkl_blas95_lp64', 'mkl_intel_lp64', 'mkl_intel_thread', 'mkl_core', 'libiomp5md', 'libifportmd', 'mkl_lapack95_lp64', 'mkl_blas95_lp64', 'mkl_intel_lp64', 'mkl_intel_thread', 'mkl_core', 'libiomp5md', 'libifportmd']\n",
      "    library_dirs = ['C:/Program Files (x86)/Intel/Composer XE/mkl/lib/intel64']\n",
      "    define_macros = [('SCIPY_MKL_H', None), ('HAVE_CBLAS', None)]\n",
      "    include_dirs = ['C:/Program Files (x86)/Intel/Composer XE/mkl/include']\n",
      "blas_mkl_info:\n",
      "    libraries = ['mkl_lapack95_lp64', 'mkl_blas95_lp64', 'mkl_intel_lp64', 'mkl_intel_thread', 'mkl_core', 'libiomp5md', 'libifportmd']\n",
      "    library_dirs = ['C:/Program Files (x86)/Intel/Composer XE/mkl/lib/intel64']\n",
      "    define_macros = [('SCIPY_MKL_H', None), ('HAVE_CBLAS', None)]\n",
      "    include_dirs = ['C:/Program Files (x86)/Intel/Composer XE/mkl/include']\n",
      "mkl_info:\n",
      "    libraries = ['mkl_lapack95_lp64', 'mkl_blas95_lp64', 'mkl_intel_lp64', 'mkl_intel_thread', 'mkl_core', 'libiomp5md', 'libifportmd']\n",
      "    library_dirs = ['C:/Program Files (x86)/Intel/Composer XE/mkl/lib/intel64']\n",
      "    define_macros = [('SCIPY_MKL_H', None), ('HAVE_CBLAS', None)]\n",
      "    include_dirs = ['C:/Program Files (x86)/Intel/Composer XE/mkl/include']\n"
     ]
    }
   ],
   "source": [
    "print np.__version__\n",
    "np.__config__.show()"
   ]
  },
  {
   "cell_type": "markdown",
   "metadata": {},
   "source": [
    "3\\. 크기 10인 영벡터 어레이 만들기"
   ]
  },
  {
   "cell_type": "code",
   "execution_count": 3,
   "metadata": {
    "collapsed": false
   },
   "outputs": [
    {
     "name": "stdout",
     "output_type": "stream",
     "text": [
      "[ 0.  0.  0.  0.  0.  0.  0.  0.  0.  0.]\n"
     ]
    }
   ],
   "source": [
    "Z = np.zeros(10)\n",
    "print Z"
   ]
  },
  {
   "cell_type": "markdown",
   "metadata": {},
   "source": [
    "4\\. 커맨드라인에서 numpy add 함수의 documentation 가져오기"
   ]
  },
  {
   "cell_type": "code",
   "execution_count": 4,
   "metadata": {
    "collapsed": false
   },
   "outputs": [
    {
     "name": "stdout",
     "output_type": "stream",
     "text": [
      "add(x1, x2[, out])\n",
      "\n",
      "Add arguments element-wise.\n",
      "\n",
      "Parameters\n",
      "----------\n",
      "x1, x2 : array_like\n",
      "    The arrays to be added.  If ``x1.shape != x2.shape``, they must be\n",
      "    broadcastable to a common shape (which may be the shape of one or\n",
      "    the other).\n",
      "\n",
      "Returns\n",
      "-------\n",
      "add : ndarray or scalar\n",
      "    The sum of `x1` and `x2`, element-wise.  Returns a scalar if\n",
      "    both  `x1` and `x2` are scalars.\n",
      "\n",
      "Notes\n",
      "-----\n",
      "Equivalent to `x1` + `x2` in terms of array broadcasting.\n",
      "\n",
      "Examples\n",
      "--------\n",
      ">>> np.add(1.0, 4.0)\n",
      "5.0\n",
      ">>> x1 = np.arange(9.0).reshape((3, 3))\n",
      ">>> x2 = np.arange(3.0)\n",
      ">>> np.add(x1, x2)\n",
      "array([[  0.,   2.,   4.],\n",
      "       [  3.,   5.,   7.],\n",
      "       [  6.,   8.,  10.]])\n"
     ]
    }
   ],
   "source": [
    "!python -c \"import numpy; numpy.info(numpy.add)\""
   ]
  },
  {
   "cell_type": "markdown",
   "metadata": {},
   "source": [
    "5\\. 크기가 10인 벡터 어레이인데, 다섯번째 인덱스의 값은 1이고 나머지는 0인 벡터 만들기"
   ]
  },
  {
   "cell_type": "code",
   "execution_count": 5,
   "metadata": {
    "collapsed": false
   },
   "outputs": [
    {
     "name": "stdout",
     "output_type": "stream",
     "text": [
      "[ 0.  0.  0.  0.  1.  0.  0.  0.  0.  0.]\n"
     ]
    }
   ],
   "source": [
    "Z = np.zeros(10)\n",
    "Z[4] = 1\n",
    "print Z"
   ]
  },
  {
   "cell_type": "markdown",
   "metadata": {},
   "source": [
    "6\\. 10으로 시작해서 49로 끝나는 정수 벡터 어레이 만들기"
   ]
  },
  {
   "cell_type": "code",
   "execution_count": 6,
   "metadata": {
    "collapsed": false
   },
   "outputs": [
    {
     "name": "stdout",
     "output_type": "stream",
     "text": [
      "[10 11 12 13 14 15 16 17 18 19 20 21 22 23 24 25 26 27 28 29 30 31 32 33 34\n",
      " 35 36 37 38 39 40 41 42 43 44 45 46 47 48 49]\n"
     ]
    }
   ],
   "source": [
    "Z = np.arange(10, 50)\n",
    "print Z"
   ]
  },
  {
   "cell_type": "markdown",
   "metadata": {},
   "source": [
    "7\\. 벡터 어레이 거꾸로 뒤집기"
   ]
  },
  {
   "cell_type": "code",
   "execution_count": 7,
   "metadata": {
    "collapsed": false
   },
   "outputs": [
    {
     "name": "stdout",
     "output_type": "stream",
     "text": [
      "[49 48 47 46 45 44 43 42 41 40 39 38 37 36 35 34 33 32 31 30 29 28 27 26 25\n",
      " 24 23 22 21 20 19 18 17 16 15 14 13 12 11 10  9  8  7  6  5  4  3  2  1  0]\n"
     ]
    }
   ],
   "source": [
    "Z = np.arange(50)\n",
    "Z = Z[::-1]\n",
    "print Z"
   ]
  },
  {
   "cell_type": "markdown",
   "metadata": {},
   "source": [
    "8\\. 0으로 시작해서 8로 끝나는 3 x 3 정수 행렬 어레이 만들기"
   ]
  },
  {
   "cell_type": "code",
   "execution_count": 8,
   "metadata": {
    "collapsed": false
   },
   "outputs": [
    {
     "name": "stdout",
     "output_type": "stream",
     "text": [
      "[[0 1 2]\n",
      " [3 4 5]\n",
      " [6 7 8]]\n"
     ]
    }
   ],
   "source": [
    "Z = np.arange(9).reshape(3, 3)\n",
    "print Z"
   ]
  },
  {
   "cell_type": "markdown",
   "metadata": {},
   "source": [
    "9\\. 벡터 어레이 [1, 2, 0, 0, 4, 0]에서 0이 아닌 수의 인덱스를 구하기"
   ]
  },
  {
   "cell_type": "code",
   "execution_count": 9,
   "metadata": {
    "collapsed": false
   },
   "outputs": [
    {
     "name": "stdout",
     "output_type": "stream",
     "text": [
      "(array([0, 1, 4], dtype=int64),)\n"
     ]
    }
   ],
   "source": [
    "nz = np.nonzero([1, 2, 0, 0, 4, 0])\n",
    "print nz"
   ]
  },
  {
   "cell_type": "markdown",
   "metadata": {},
   "source": [
    "10\\. 3 x 3 단위행렬 어레이 구하기"
   ]
  },
  {
   "cell_type": "code",
   "execution_count": 10,
   "metadata": {
    "collapsed": false
   },
   "outputs": [
    {
     "name": "stdout",
     "output_type": "stream",
     "text": [
      "[[ 1.  0.  0.]\n",
      " [ 0.  1.  0.]\n",
      " [ 0.  0.  1.]]\n"
     ]
    }
   ],
   "source": [
    "Z = np.eye(3)\n",
    "print Z"
   ]
  },
  {
   "cell_type": "markdown",
   "metadata": {},
   "source": [
    "11\\. 랜덤한 값이 들어간 3 x 3 x 3 3차원 행렬 어레이 구하기"
   ]
  },
  {
   "cell_type": "code",
   "execution_count": 11,
   "metadata": {
    "collapsed": false
   },
   "outputs": [
    {
     "name": "stdout",
     "output_type": "stream",
     "text": [
      "[[[ 0.31328919  0.00739354  0.15699596]\n",
      "  [ 0.80873822  0.22534433  0.64647591]\n",
      "  [ 0.58698509  0.85300308  0.90262955]]\n",
      "\n",
      " [[ 0.1836905   0.63815721  0.8447391 ]\n",
      "  [ 0.43816622  0.08291757  0.56451726]\n",
      "  [ 0.82415176  0.10811578  0.90943572]]\n",
      "\n",
      " [[ 0.71531527  0.00980151  0.35115836]\n",
      "  [ 0.23922001  0.82754994  0.22380765]\n",
      "  [ 0.18341876  0.45837718  0.2250295 ]]]\n"
     ]
    }
   ],
   "source": [
    "Z = np.random.random((3, 3, 3))\n",
    "print Z"
   ]
  },
  {
   "cell_type": "markdown",
   "metadata": {},
   "source": [
    "12\\. 랜덤한 값이 들어간 10 x 10 행렬 어레이를 만들고 그 어레이에서 최솟값과 최댓값 구하기"
   ]
  },
  {
   "cell_type": "code",
   "execution_count": 12,
   "metadata": {
    "collapsed": false
   },
   "outputs": [
    {
     "name": "stdout",
     "output_type": "stream",
     "text": [
      "0.0269383199096 0.95393461328\n"
     ]
    }
   ],
   "source": [
    "Z = np.random.random((10, 10))\n",
    "Zmin, Zmax = Z.min(), Z.max()\n",
    "print Zmin, Zmax"
   ]
  },
  {
   "cell_type": "markdown",
   "metadata": {},
   "source": [
    "13\\. 랜덤한 값이 들어간 크기가 30인 벡터 어레이를 만들고 평균값 구하기"
   ]
  },
  {
   "cell_type": "code",
   "execution_count": 13,
   "metadata": {
    "collapsed": false
   },
   "outputs": [
    {
     "name": "stdout",
     "output_type": "stream",
     "text": [
      "0.430380602607\n"
     ]
    }
   ],
   "source": [
    "Z = np.random.random(30)\n",
    "m = Z.mean()\n",
    "print m"
   ]
  },
  {
   "cell_type": "markdown",
   "metadata": {},
   "source": [
    "14\\. 대각선 아래 값들이 각각 1, 2, 3, 4인 5 x 5 행렬 어레이 만들기"
   ]
  },
  {
   "cell_type": "code",
   "execution_count": 14,
   "metadata": {
    "collapsed": false
   },
   "outputs": [
    {
     "name": "stdout",
     "output_type": "stream",
     "text": [
      "[[0 0 0 0 0]\n",
      " [1 0 0 0 0]\n",
      " [0 2 0 0 0]\n",
      " [0 0 3 0 0]\n",
      " [0 0 0 4 0]]\n"
     ]
    }
   ],
   "source": [
    "Z = np.diag(1 + np.arange(4), k = -1)\n",
    "print Z"
   ]
  },
  {
   "cell_type": "markdown",
   "metadata": {},
   "source": [
    "15\\. 바둑판 패턴의 8 x 8 행렬 어레이 만들기"
   ]
  },
  {
   "cell_type": "code",
   "execution_count": 15,
   "metadata": {
    "collapsed": false
   },
   "outputs": [
    {
     "name": "stdout",
     "output_type": "stream",
     "text": [
      "[[0 1 0 1 0 1 0 1]\n",
      " [1 0 1 0 1 0 1 0]\n",
      " [0 1 0 1 0 1 0 1]\n",
      " [1 0 1 0 1 0 1 0]\n",
      " [0 1 0 1 0 1 0 1]\n",
      " [1 0 1 0 1 0 1 0]\n",
      " [0 1 0 1 0 1 0 1]\n",
      " [1 0 1 0 1 0 1 0]]\n"
     ]
    }
   ],
   "source": [
    "Z = np.zeros((8, 8), dtype = int)\n",
    "Z[1::2, ::2] = 1\n",
    "Z[::2, 1::2] = 1\n",
    "print Z"
   ]
  },
  {
   "cell_type": "markdown",
   "metadata": {},
   "source": [
    "16\\. 바둑판 패턴의 8 x 8 행렬 어레이를 tile 함수를 사용하여 만들기"
   ]
  },
  {
   "cell_type": "code",
   "execution_count": 16,
   "metadata": {
    "collapsed": false
   },
   "outputs": [
    {
     "name": "stdout",
     "output_type": "stream",
     "text": [
      "[[0 1 0 1 0 1 0 1]\n",
      " [1 0 1 0 1 0 1 0]\n",
      " [0 1 0 1 0 1 0 1]\n",
      " [1 0 1 0 1 0 1 0]\n",
      " [0 1 0 1 0 1 0 1]\n",
      " [1 0 1 0 1 0 1 0]\n",
      " [0 1 0 1 0 1 0 1]\n",
      " [1 0 1 0 1 0 1 0]]\n"
     ]
    }
   ],
   "source": [
    "Z = np.tile(np.array([[0, 1], [1, 0]]), (4, 4))\n",
    "print Z"
   ]
  },
  {
   "cell_type": "markdown",
   "metadata": {},
   "source": [
    "17\\. 5 x 5 랜덤 행렬 어레이를 min-max normalize 하기 "
   ]
  },
  {
   "cell_type": "code",
   "execution_count": 17,
   "metadata": {
    "collapsed": false
   },
   "outputs": [
    {
     "name": "stdout",
     "output_type": "stream",
     "text": [
      "[[ 0.71829961  0.24474107  0.6901774   0.41628253  0.36887547]\n",
      " [ 0.85626086  0.34401069  0.34486816  0.7175817   0.14211143]\n",
      " [ 0.75384664  0.61378919  0.09100907  0.11322678  0.98439684]\n",
      " [ 0.9730586   0.6555595   0.0741328   0.74081398  0.94371656]\n",
      " [ 0.          0.01104585  1.          0.93410349  0.315242  ]]\n"
     ]
    }
   ],
   "source": [
    "Z = np.random.random((5, 5))\n",
    "Zmax, Zmin = Z.max(), Z.min()\n",
    "Z = (Z - Zmin)/(Zmax - Zmin)\n",
    "print Z"
   ]
  },
  {
   "cell_type": "markdown",
   "metadata": {},
   "source": [
    "18\\. 5 x 3 행렬 어레이와 3 x 2 행렬 어레이 곱하기"
   ]
  },
  {
   "cell_type": "code",
   "execution_count": 18,
   "metadata": {
    "collapsed": false
   },
   "outputs": [
    {
     "name": "stdout",
     "output_type": "stream",
     "text": [
      "[[ 3.  3.]\n",
      " [ 3.  3.]\n",
      " [ 3.  3.]\n",
      " [ 3.  3.]\n",
      " [ 3.  3.]]\n"
     ]
    }
   ],
   "source": [
    "Z = np.dot(np.ones((5, 3)), np.ones((3, 2)))\n",
    "print Z"
   ]
  },
  {
   "cell_type": "markdown",
   "metadata": {},
   "source": [
    "19\\. 행의 값이 0부터 4까지의 정수값인 5 x 5 행렬 어레이 만들기"
   ]
  },
  {
   "cell_type": "code",
   "execution_count": 19,
   "metadata": {
    "collapsed": false
   },
   "outputs": [
    {
     "name": "stdout",
     "output_type": "stream",
     "text": [
      "[[ 0.  1.  2.  3.  4.]\n",
      " [ 0.  1.  2.  3.  4.]\n",
      " [ 0.  1.  2.  3.  4.]\n",
      " [ 0.  1.  2.  3.  4.]\n",
      " [ 0.  1.  2.  3.  4.]]\n"
     ]
    }
   ],
   "source": [
    "Z = np.zeros((5, 5))\n",
    "Z += np.arange(5)\n",
    "print Z"
   ]
  },
  {
   "cell_type": "markdown",
   "metadata": {},
   "source": [
    "20\\. 0과 1 사이 값을 가지는 크기 10의 실수 벡터 어레이 만들기, 0과 1은 포함되지 않는다."
   ]
  },
  {
   "cell_type": "code",
   "execution_count": 20,
   "metadata": {
    "collapsed": false
   },
   "outputs": [
    {
     "name": "stdout",
     "output_type": "stream",
     "text": [
      "[ 0.09090909  0.18181818  0.27272727  0.36363636  0.45454545  0.54545455\n",
      "  0.63636364  0.72727273  0.81818182  0.90909091]\n"
     ]
    }
   ],
   "source": [
    "Z = np.linspace(0, 1, 12, endpoint = True)[1: -1]\n",
    "print Z"
   ]
  },
  {
   "cell_type": "markdown",
   "metadata": {},
   "source": [
    "21\\. 크기 10인 랜덤 벡터 어레이를 생성 후 정렬하기"
   ]
  },
  {
   "cell_type": "code",
   "execution_count": 21,
   "metadata": {
    "collapsed": false
   },
   "outputs": [
    {
     "name": "stdout",
     "output_type": "stream",
     "text": [
      "[ 0.11281264  0.16505544  0.19813187  0.32567049  0.3786303   0.45136616\n",
      "  0.49380291  0.52166897  0.55808051  0.67484059]\n"
     ]
    }
   ],
   "source": [
    "Z = np.random.random(10)\n",
    "Z.sort()\n",
    "print Z"
   ]
  },
  {
   "cell_type": "markdown",
   "metadata": {},
   "source": [
    "22\\. 두 벡터 어레이 A와 B가 같은지 체크하기"
   ]
  },
  {
   "cell_type": "code",
   "execution_count": 22,
   "metadata": {
    "collapsed": false
   },
   "outputs": [
    {
     "name": "stdout",
     "output_type": "stream",
     "text": [
      "False\n"
     ]
    }
   ],
   "source": [
    "A = np.random.randint(0, 2, 5)\n",
    "B = np.random.randint(0, 2, 5)\n",
    "equal = np.allclose(A, B)\n",
    "print equal"
   ]
  },
  {
   "cell_type": "markdown",
   "metadata": {},
   "source": [
    "23\\. 벡터 어레이를 immutable(read-only)하게 바꾸기"
   ]
  },
  {
   "cell_type": "code",
   "execution_count": 23,
   "metadata": {
    "collapsed": false
   },
   "outputs": [
    {
     "ename": "ValueError",
     "evalue": "assignment destination is read-only",
     "output_type": "error",
     "traceback": [
      "\u001b[1;31m---------------------------------------------------------------------------\u001b[0m",
      "\u001b[1;31mValueError\u001b[0m                                Traceback (most recent call last)",
      "\u001b[1;32m<ipython-input-23-6fd4c6570dd1>\u001b[0m in \u001b[0;36m<module>\u001b[1;34m()\u001b[0m\n\u001b[0;32m      1\u001b[0m \u001b[0mZ\u001b[0m \u001b[1;33m=\u001b[0m \u001b[0mnp\u001b[0m\u001b[1;33m.\u001b[0m\u001b[0mzeros\u001b[0m\u001b[1;33m(\u001b[0m\u001b[1;36m10\u001b[0m\u001b[1;33m)\u001b[0m\u001b[1;33m\u001b[0m\u001b[0m\n\u001b[0;32m      2\u001b[0m \u001b[0mZ\u001b[0m\u001b[1;33m.\u001b[0m\u001b[0mflags\u001b[0m\u001b[1;33m.\u001b[0m\u001b[0mwriteable\u001b[0m \u001b[1;33m=\u001b[0m \u001b[0mFalse\u001b[0m\u001b[1;33m\u001b[0m\u001b[0m\n\u001b[1;32m----> 3\u001b[1;33m \u001b[0mZ\u001b[0m\u001b[1;33m[\u001b[0m\u001b[1;36m0\u001b[0m\u001b[1;33m]\u001b[0m \u001b[1;33m=\u001b[0m \u001b[1;36m1\u001b[0m\u001b[1;33m\u001b[0m\u001b[0m\n\u001b[0m",
      "\u001b[1;31mValueError\u001b[0m: assignment destination is read-only"
     ]
    }
   ],
   "source": [
    "Z = np.zeros(10)\n",
    "Z.flags.writeable = False\n",
    "Z[0] = 1"
   ]
  },
  {
   "cell_type": "markdown",
   "metadata": {},
   "source": [
    "24\\. 직교좌표계를 나타내는 10 x 2 행렬 어레이를 극좌표계를 나타내도록 변환하기"
   ]
  },
  {
   "cell_type": "code",
   "execution_count": 24,
   "metadata": {
    "collapsed": false
   },
   "outputs": [
    {
     "name": "stdout",
     "output_type": "stream",
     "text": [
      "[[ 0.39233909  0.37018462]\n",
      " [ 0.14083273  1.10066535]\n",
      " [ 1.00319066  0.77287387]\n",
      " [ 0.4623533   0.69094211]\n",
      " [ 0.89220552  0.57275476]\n",
      " [ 1.24209     0.64525674]\n",
      " [ 0.7670016   0.28559637]\n",
      " [ 1.27478791  0.88074726]\n",
      " [ 1.06640188  0.93402703]\n",
      " [ 1.19939874  0.59696966]]\n"
     ]
    }
   ],
   "source": [
    "Z = np.random.random((10, 2))\n",
    "X, Y = Z[:, 0], Z[:, 1]\n",
    "R = np.sqrt(X**2 + Y**2)\n",
    "T = np.arctan2(Y, X)\n",
    "P = np.dstack([R, T]).reshape(10, 2)\n",
    "print P"
   ]
  },
  {
   "cell_type": "markdown",
   "metadata": {},
   "source": [
    "25\\. 크기 10인 랜덤 백터 어레이를 만들고, 최댓값을 0으로 바꾸기"
   ]
  },
  {
   "cell_type": "code",
   "execution_count": 25,
   "metadata": {
    "collapsed": false
   },
   "outputs": [
    {
     "name": "stdout",
     "output_type": "stream",
     "text": [
      "[ 0.03318188  0.3336954   0.22677746  0.66608007  0.05967092  0.65656545\n",
      "  0.          0.62747823  0.57988218  0.37257097]\n"
     ]
    }
   ],
   "source": [
    "Z = np.random.random(10)\n",
    "Z[Z.argmax()] = 0\n",
    "print Z"
   ]
  },
  {
   "cell_type": "markdown",
   "metadata": {},
   "source": [
    "26\\. `x`, `y` 좌표가 [0, 1] x [0, 1] 영역을 덮는 structured 어레이 생성하기"
   ]
  },
  {
   "cell_type": "code",
   "execution_count": 26,
   "metadata": {
    "collapsed": false
   },
   "outputs": [
    {
     "name": "stdout",
     "output_type": "stream",
     "text": [
      "[[(0.0, 0.0) (0.1111111111111111, 0.0) (0.2222222222222222, 0.0)\n",
      "  (0.3333333333333333, 0.0) (0.4444444444444444, 0.0)\n",
      "  (0.5555555555555556, 0.0) (0.6666666666666666, 0.0)\n",
      "  (0.7777777777777777, 0.0) (0.8888888888888888, 0.0) (1.0, 0.0)]\n",
      " [(0.0, 0.1111111111111111) (0.1111111111111111, 0.1111111111111111)\n",
      "  (0.2222222222222222, 0.1111111111111111)\n",
      "  (0.3333333333333333, 0.1111111111111111)\n",
      "  (0.4444444444444444, 0.1111111111111111)\n",
      "  (0.5555555555555556, 0.1111111111111111)\n",
      "  (0.6666666666666666, 0.1111111111111111)\n",
      "  (0.7777777777777777, 0.1111111111111111)\n",
      "  (0.8888888888888888, 0.1111111111111111) (1.0, 0.1111111111111111)]\n",
      " [(0.0, 0.2222222222222222) (0.1111111111111111, 0.2222222222222222)\n",
      "  (0.2222222222222222, 0.2222222222222222)\n",
      "  (0.3333333333333333, 0.2222222222222222)\n",
      "  (0.4444444444444444, 0.2222222222222222)\n",
      "  (0.5555555555555556, 0.2222222222222222)\n",
      "  (0.6666666666666666, 0.2222222222222222)\n",
      "  (0.7777777777777777, 0.2222222222222222)\n",
      "  (0.8888888888888888, 0.2222222222222222) (1.0, 0.2222222222222222)]\n",
      " [(0.0, 0.3333333333333333) (0.1111111111111111, 0.3333333333333333)\n",
      "  (0.2222222222222222, 0.3333333333333333)\n",
      "  (0.3333333333333333, 0.3333333333333333)\n",
      "  (0.4444444444444444, 0.3333333333333333)\n",
      "  (0.5555555555555556, 0.3333333333333333)\n",
      "  (0.6666666666666666, 0.3333333333333333)\n",
      "  (0.7777777777777777, 0.3333333333333333)\n",
      "  (0.8888888888888888, 0.3333333333333333) (1.0, 0.3333333333333333)]\n",
      " [(0.0, 0.4444444444444444) (0.1111111111111111, 0.4444444444444444)\n",
      "  (0.2222222222222222, 0.4444444444444444)\n",
      "  (0.3333333333333333, 0.4444444444444444)\n",
      "  (0.4444444444444444, 0.4444444444444444)\n",
      "  (0.5555555555555556, 0.4444444444444444)\n",
      "  (0.6666666666666666, 0.4444444444444444)\n",
      "  (0.7777777777777777, 0.4444444444444444)\n",
      "  (0.8888888888888888, 0.4444444444444444) (1.0, 0.4444444444444444)]\n",
      " [(0.0, 0.5555555555555556) (0.1111111111111111, 0.5555555555555556)\n",
      "  (0.2222222222222222, 0.5555555555555556)\n",
      "  (0.3333333333333333, 0.5555555555555556)\n",
      "  (0.4444444444444444, 0.5555555555555556)\n",
      "  (0.5555555555555556, 0.5555555555555556)\n",
      "  (0.6666666666666666, 0.5555555555555556)\n",
      "  (0.7777777777777777, 0.5555555555555556)\n",
      "  (0.8888888888888888, 0.5555555555555556) (1.0, 0.5555555555555556)]\n",
      " [(0.0, 0.6666666666666666) (0.1111111111111111, 0.6666666666666666)\n",
      "  (0.2222222222222222, 0.6666666666666666)\n",
      "  (0.3333333333333333, 0.6666666666666666)\n",
      "  (0.4444444444444444, 0.6666666666666666)\n",
      "  (0.5555555555555556, 0.6666666666666666)\n",
      "  (0.6666666666666666, 0.6666666666666666)\n",
      "  (0.7777777777777777, 0.6666666666666666)\n",
      "  (0.8888888888888888, 0.6666666666666666) (1.0, 0.6666666666666666)]\n",
      " [(0.0, 0.7777777777777777) (0.1111111111111111, 0.7777777777777777)\n",
      "  (0.2222222222222222, 0.7777777777777777)\n",
      "  (0.3333333333333333, 0.7777777777777777)\n",
      "  (0.4444444444444444, 0.7777777777777777)\n",
      "  (0.5555555555555556, 0.7777777777777777)\n",
      "  (0.6666666666666666, 0.7777777777777777)\n",
      "  (0.7777777777777777, 0.7777777777777777)\n",
      "  (0.8888888888888888, 0.7777777777777777) (1.0, 0.7777777777777777)]\n",
      " [(0.0, 0.8888888888888888) (0.1111111111111111, 0.8888888888888888)\n",
      "  (0.2222222222222222, 0.8888888888888888)\n",
      "  (0.3333333333333333, 0.8888888888888888)\n",
      "  (0.4444444444444444, 0.8888888888888888)\n",
      "  (0.5555555555555556, 0.8888888888888888)\n",
      "  (0.6666666666666666, 0.8888888888888888)\n",
      "  (0.7777777777777777, 0.8888888888888888)\n",
      "  (0.8888888888888888, 0.8888888888888888) (1.0, 0.8888888888888888)]\n",
      " [(0.0, 1.0) (0.1111111111111111, 1.0) (0.2222222222222222, 1.0)\n",
      "  (0.3333333333333333, 1.0) (0.4444444444444444, 1.0)\n",
      "  (0.5555555555555556, 1.0) (0.6666666666666666, 1.0)\n",
      "  (0.7777777777777777, 1.0) (0.8888888888888888, 1.0) (1.0, 1.0)]]\n"
     ]
    }
   ],
   "source": [
    "Z = np.zeros((10, 10), [('x', float), ('y', float)])\n",
    "Z['x'], Z['y'] = np.meshgrid(np.linspace(0, 1, 10), np.linspace(0, 1, 10))\n",
    "print Z"
   ]
  },
  {
   "cell_type": "markdown",
   "metadata": {},
   "source": [
    "27\\. 각 numpy 스칼라 타입들에 대해서 표현 가능한 최솟값과 최댓값 출력"
   ]
  },
  {
   "cell_type": "code",
   "execution_count": 27,
   "metadata": {
    "collapsed": false
   },
   "outputs": [
    {
     "name": "stdout",
     "output_type": "stream",
     "text": [
      "-128 127\n",
      "-2147483648 2147483647\n",
      "-9223372036854775808 9223372036854775807\n",
      "-3.40282e+38 3.40282e+38 1.19209e-07\n",
      "-1.79769313486e+308 1.79769313486e+308 2.22044604925e-16\n"
     ]
    }
   ],
   "source": [
    "for dtype in [np.int8, np.int32, np.int64]:\n",
    "    print np.iinfo(dtype).min, np.iinfo(dtype).max\n",
    "for dtype in [np.float32, np.float64]:\n",
    "    print np.finfo(dtype).min, np.finfo(dtype).max, np.finfo(dtype).eps"
   ]
  },
  {
   "cell_type": "markdown",
   "metadata": {},
   "source": [
    "28\\. 좌표 (x, y)와 색 (r, g, b)를 표현하는 structured 어레이 생성하기"
   ]
  },
  {
   "cell_type": "code",
   "execution_count": 28,
   "metadata": {
    "collapsed": false
   },
   "outputs": [
    {
     "name": "stdout",
     "output_type": "stream",
     "text": [
      "[((0.0, 0.0), (0.0, 0.0, 0.0)) ((0.0, 0.0), (0.0, 0.0, 0.0))\n",
      " ((0.0, 0.0), (0.0, 0.0, 0.0)) ((0.0, 0.0), (0.0, 0.0, 0.0))\n",
      " ((0.0, 0.0), (0.0, 0.0, 0.0)) ((0.0, 0.0), (0.0, 0.0, 0.0))\n",
      " ((0.0, 0.0), (0.0, 0.0, 0.0)) ((0.0, 0.0), (0.0, 0.0, 0.0))\n",
      " ((0.0, 0.0), (0.0, 0.0, 0.0)) ((0.0, 0.0), (0.0, 0.0, 0.0))]\n"
     ]
    }
   ],
   "source": [
    "Z = np.zeros(10, [('position', [('x', float, 1),\n",
    "                               ('y', float, 1)]),\n",
    "                  ('color', [('r', float, 1),\n",
    "                            ('g', float, 1),\n",
    "                            ('b', float, 1)])])\n",
    "print Z"
   ]
  },
  {
   "cell_type": "markdown",
   "metadata": {},
   "source": [
    "29\\. (10, 2)의 shape를 가지는 랜덤 벡터 어레이가 있다고 할때, 모든 점과 점 사이의 거리를 구하기"
   ]
  },
  {
   "cell_type": "code",
   "execution_count": 29,
   "metadata": {
    "collapsed": false
   },
   "outputs": [
    {
     "name": "stdout",
     "output_type": "stream",
     "text": [
      "[[ 0.          0.5814241   0.68122477  0.19519383  0.74851313  0.24206392\n",
      "   0.36205069  0.46823238  0.33595207  1.04269642]\n",
      " [ 0.5814241   0.          0.26973681  0.56127201  0.84431289  0.51253393\n",
      "   0.24133533  0.17167928  0.25272484  0.71903429]\n",
      " [ 0.68122477  0.26973681  0.          0.57990133  0.65989934  0.51475131\n",
      "   0.44026813  0.22978704  0.42852319  0.45193376]\n",
      " [ 0.19519383  0.56127201  0.57990133  0.          0.55376246  0.06740339\n",
      "   0.40211221  0.40792808  0.36484191  0.8851534 ]\n",
      " [ 0.74851313  0.84431289  0.65989934  0.55376246  0.          0.5203176\n",
      "   0.83309099  0.68308346  0.79601695  0.62289743]\n",
      " [ 0.24206392  0.51253393  0.51475131  0.06740339  0.5203176   0.\n",
      "   0.37664159  0.35258475  0.33790976  0.81959511]\n",
      " [ 0.36205069  0.24133533  0.44026813  0.40211221  0.83309099  0.37664159\n",
      "   0.          0.21837176  0.03911555  0.88052108]\n",
      " [ 0.46823238  0.17167928  0.22978704  0.40792808  0.68308346  0.35258475\n",
      "   0.21837176  0.          0.20106228  0.66226884]\n",
      " [ 0.33595207  0.25272484  0.42852319  0.36484191  0.79601695  0.33790976\n",
      "   0.03911555  0.20106228  0.          0.86203977]\n",
      " [ 1.04269642  0.71903429  0.45193376  0.8851534   0.62289743  0.81959511\n",
      "   0.88052108  0.66226884  0.86203977  0.        ]]\n",
      "[[ 0.          0.60623004  0.80253735  0.81863544  0.45282352  0.36795191\n",
      "   0.79321854  0.72154027  0.46802232  0.49430591]\n",
      " [ 0.60623004  0.          0.36656559  1.06224458  0.47177694  0.52597824\n",
      "   0.32851081  0.13500502  0.83495299  0.53271947]\n",
      " [ 0.80253735  0.36656559  0.          0.92531447  0.434838    0.53773971\n",
      "   0.04527564  0.42383746  0.82233313  0.4577575 ]\n",
      " [ 0.81863544  1.06224458  0.92531447  0.          0.59123292  0.56251278\n",
      "   0.95651569  1.19282219  0.35654069  0.52963441]\n",
      " [ 0.45282352  0.47177694  0.434838    0.59123292  0.          0.1068864\n",
      "   0.44674469  0.60401149  0.39552042  0.06726232]\n",
      " [ 0.36795191  0.52597824  0.53773971  0.56251278  0.1068864   0.\n",
      "   0.54662471  0.66087548  0.31196602  0.1279586 ]\n",
      " [ 0.79321854  0.32851081  0.04527564  0.95651569  0.44674469  0.54662471\n",
      "   0.          0.37985732  0.83888947  0.4755192 ]\n",
      " [ 0.72154027  0.13500502  0.42383746  1.19282219  0.60401149  0.66087548\n",
      "   0.37985732  0.          0.96993419  0.66331089]\n",
      " [ 0.46802232  0.83495299  0.82233313  0.35654069  0.39552042  0.31196602\n",
      "   0.83888947  0.96993419  0.          0.36461928]\n",
      " [ 0.49430591  0.53271947  0.4577575   0.52963441  0.06726232  0.1279586\n",
      "   0.4755192   0.66331089  0.36461928  0.        ]]\n"
     ]
    }
   ],
   "source": [
    "Z = np.random.random((10, 2))\n",
    "X, Y = np.atleast_2d(Z[:, 0]), np.atleast_2d(Z[:, 1])\n",
    "D = np.sqrt((X - X.T)**2 + (Y - Y.T)**2)\n",
    "print D\n",
    "\n",
    "import scipy\n",
    "import scipy.spatial\n",
    "\n",
    "Z = np.random.random((10, 2))\n",
    "D = scipy.spatial.distance.cdist(Z, Z)\n",
    "print D"
   ]
  },
  {
   "cell_type": "markdown",
   "metadata": {},
   "source": [
    "30\\. 아래와 같은 파일이 있다고 치자  \n",
    ">1,2,3,4,5  \n",
    "6,,,7,8  \n",
    ",,9,10,11\n",
    "\n",
    "어떻게 읽을 것인가?"
   ]
  },
  {
   "cell_type": "code",
   "execution_count": 30,
   "metadata": {
    "collapsed": false
   },
   "outputs": [
    {
     "name": "stdout",
     "output_type": "stream",
     "text": [
      "[[  1.   2.   3.   4.   5.]\n",
      " [  6.  nan  nan   7.   8.]\n",
      " [ nan  nan   9.  10.  11.]]\n"
     ]
    }
   ],
   "source": [
    "text = \"\"\"1,2,3,4,5\n",
    "6,,,7,8\n",
    ",,9,10,11\"\"\"\n",
    "with open('missing.dat', 'w') as fp:\n",
    "    fp.write(text)\n",
    "Z = np.genfromtxt('missing.dat', delimiter=',')\n",
    "print Z"
   ]
  },
  {
   "cell_type": "markdown",
   "metadata": {},
   "source": [
    "31\\. 가우시안 분포를 따르는 2차원 행렬 어레이 만들기"
   ]
  },
  {
   "cell_type": "code",
   "execution_count": 31,
   "metadata": {
    "collapsed": false,
    "scrolled": true
   },
   "outputs": [
    {
     "name": "stdout",
     "output_type": "stream",
     "text": [
      "[[ 0.36787944  0.44822088  0.51979489  0.57375342  0.60279818  0.60279818\n",
      "   0.57375342  0.51979489  0.44822088  0.36787944]\n",
      " [ 0.44822088  0.54610814  0.63331324  0.69905581  0.73444367  0.73444367\n",
      "   0.69905581  0.63331324  0.54610814  0.44822088]\n",
      " [ 0.51979489  0.63331324  0.73444367  0.81068432  0.85172308  0.85172308\n",
      "   0.81068432  0.73444367  0.63331324  0.51979489]\n",
      " [ 0.57375342  0.69905581  0.81068432  0.89483932  0.9401382   0.9401382\n",
      "   0.89483932  0.81068432  0.69905581  0.57375342]\n",
      " [ 0.60279818  0.73444367  0.85172308  0.9401382   0.98773022  0.98773022\n",
      "   0.9401382   0.85172308  0.73444367  0.60279818]\n",
      " [ 0.60279818  0.73444367  0.85172308  0.9401382   0.98773022  0.98773022\n",
      "   0.9401382   0.85172308  0.73444367  0.60279818]\n",
      " [ 0.57375342  0.69905581  0.81068432  0.89483932  0.9401382   0.9401382\n",
      "   0.89483932  0.81068432  0.69905581  0.57375342]\n",
      " [ 0.51979489  0.63331324  0.73444367  0.81068432  0.85172308  0.85172308\n",
      "   0.81068432  0.73444367  0.63331324  0.51979489]\n",
      " [ 0.44822088  0.54610814  0.63331324  0.69905581  0.73444367  0.73444367\n",
      "   0.69905581  0.63331324  0.54610814  0.44822088]\n",
      " [ 0.36787944  0.44822088  0.51979489  0.57375342  0.60279818  0.60279818\n",
      "   0.57375342  0.51979489  0.44822088  0.36787944]]\n"
     ]
    }
   ],
   "source": [
    "X, Y = np.meshgrid(np.linspace(-1, 1, 10), np.linspace(-1, 1, 10))\n",
    "D = np.sqrt(X * X + Y * Y)\n",
    "sigma, mu = 1.0, 0.0\n",
    "G = np.exp(-((D - mu)**2 / (2.0 * sigma**2)))\n",
    "print G"
   ]
  },
  {
   "cell_type": "markdown",
   "metadata": {},
   "source": [
    "32\\. n x n 영행렬 어레이의 랜덤한 곳에 m개의 p를 놓기"
   ]
  },
  {
   "cell_type": "code",
   "execution_count": 32,
   "metadata": {
    "collapsed": false
   },
   "outputs": [
    {
     "name": "stdout",
     "output_type": "stream",
     "text": [
      "[[ 0.  0.  0.  0.  0.  0.  0.  0.  0.  0.]\n",
      " [ 0.  0.  0.  0.  0.  0.  0.  0.  0.  0.]\n",
      " [ 0.  0.  0.  0.  0.  0.  0.  0.  0.  0.]\n",
      " [ 0.  0.  0.  0.  0.  0.  0.  0.  0.  0.]\n",
      " [ 0.  0.  0.  0.  0.  0.  0.  0.  0.  0.]\n",
      " [ 0.  0.  0.  0.  0.  0.  0.  0.  0.  0.]\n",
      " [ 0.  0.  0.  0.  0.  0.  0.  0.  0.  0.]\n",
      " [ 0.  0.  0.  0.  0.  0.  0.  4.  0.  0.]\n",
      " [ 0.  0.  0.  0.  0.  0.  0.  0.  0.  0.]\n",
      " [ 0.  0.  0.  0.  4.  0.  0.  0.  4.  0.]]\n"
     ]
    }
   ],
   "source": [
    "# Author: Divakar\n",
    "\n",
    "n = 10\n",
    "m = 3\n",
    "p = 4\n",
    "Z = np.zeros((n, n))\n",
    "np.put(Z, np.random.choice(range(n*n), m, replace=False), p)\n",
    "print Z"
   ]
  },
  {
   "cell_type": "markdown",
   "metadata": {},
   "source": [
    "33\\. 행렬의 각 행에서 평균 빼기"
   ]
  },
  {
   "cell_type": "code",
   "execution_count": 33,
   "metadata": {
    "collapsed": false
   },
   "outputs": [
    {
     "name": "stdout",
     "output_type": "stream",
     "text": [
      "[[ 0.2343738  -0.20183431 -0.22406926  0.12697114 -0.08531349 -0.30918044\n",
      "  -0.24538385 -0.2283962   0.33106305  0.60176957]\n",
      " [ 0.26335561 -0.22660595 -0.55752491 -0.44381631  0.31608387  0.09498524\n",
      "  -0.08093865  0.41121446  0.13582997  0.08741665]\n",
      " [-0.4334477  -0.16545007  0.13476815  0.20973772 -0.09725823 -0.28334453\n",
      "   0.43908345 -0.34506745  0.10593795  0.43504071]\n",
      " [-0.00763055  0.27056309  0.1537525   0.11976854  0.07415388 -0.35096624\n",
      "  -0.06093435 -0.33510672  0.41250971 -0.27610986]\n",
      " [ 0.09512403 -0.08226299 -0.34214868  0.19776968 -0.21827657  0.39458223\n",
      "  -0.32391968 -0.08865888  0.37876388 -0.01097302]]\n"
     ]
    }
   ],
   "source": [
    "# Author: Warren Weckesser\n",
    "\n",
    "X = np.random.rand(5, 10)\n",
    "\n",
    "# Recent Ver. of numpy\n",
    "Y1 = X - X.mean(axis=1, keepdims=True)\n",
    "\n",
    "# Older Ver. of numpy\n",
    "Y2 = X - X.mean(axis=1).reshape(-1, 1)\n",
    "\n",
    "print Y1"
   ]
  },
  {
   "cell_type": "markdown",
   "metadata": {},
   "source": [
    "34\\. 2차원 행렬 어레이에서 n번째 열 기준으로 정렬하기"
   ]
  },
  {
   "cell_type": "code",
   "execution_count": 37,
   "metadata": {
    "collapsed": false
   },
   "outputs": [
    {
     "name": "stdout",
     "output_type": "stream",
     "text": [
      "[[2 6 0]\n",
      " [6 5 8]\n",
      " [6 4 4]]\n",
      "[[6 4 4]\n",
      " [6 5 8]\n",
      " [2 6 0]]\n"
     ]
    }
   ],
   "source": [
    "# Author: Steve Tjoa\n",
    "\n",
    "Z = np.random.randint(0, 10, (3, 3))\n",
    "print Z\n",
    "print Z[Z[:, 1].argsort()]"
   ]
  },
  {
   "cell_type": "markdown",
   "metadata": {},
   "source": [
    "35\\. 2차원 행렬 어레이가 영벡터 열을 가지고 있는지 판단하기"
   ]
  },
  {
   "cell_type": "code",
   "execution_count": 41,
   "metadata": {
    "collapsed": false
   },
   "outputs": [
    {
     "name": "stdout",
     "output_type": "stream",
     "text": [
      "[[0 0 1 1 0 2 0 1 2 0]\n",
      " [0 2 0 0 0 1 0 1 2 0]\n",
      " [0 1 2 1 2 0 0 2 1 0]] True\n"
     ]
    }
   ],
   "source": [
    "# Author: Warren Weckesser\n",
    "\n",
    "Z = np.random.randint(0, 3, (3, 10))\n",
    "print Z, (~Z.any(axis=0)).any()"
   ]
  },
  {
   "cell_type": "markdown",
   "metadata": {},
   "source": [
    "36\\. 주어진 값과 가장 가까운 값을 어레이에서 찾아내기"
   ]
  },
  {
   "cell_type": "code",
   "execution_count": 42,
   "metadata": {
    "collapsed": false
   },
   "outputs": [
    {
     "name": "stdout",
     "output_type": "stream",
     "text": [
      "0.509888436405\n"
     ]
    }
   ],
   "source": [
    "Z = np.random.uniform(0, 1, 10)\n",
    "z = 0.5\n",
    "m = Z.flat[np.abs(Z - z).argmin()]\n",
    "print m"
   ]
  },
  {
   "cell_type": "markdown",
   "metadata": {},
   "source": [
    "37\\. 정수 10개를 generate하는 generator로부터 어레이 만들기"
   ]
  },
  {
   "cell_type": "code",
   "execution_count": 43,
   "metadata": {
    "collapsed": false
   },
   "outputs": [
    {
     "name": "stdout",
     "output_type": "stream",
     "text": [
      "[ 0.  1.  2.  3.  4.  5.  6.  7.  8.  9.]\n"
     ]
    }
   ],
   "source": [
    "def generate():\n",
    "    for x in xrange(10):\n",
    "        yield x\n",
    "Z = np.fromiter(generate(), dtype = float, count = -1)\n",
    "print Z"
   ]
  },
  {
   "cell_type": "markdown",
   "metadata": {},
   "source": [
    "38\\. 주어진 벡터에 대해서, 두번째로 주어진 벡터에 쓰여있는 인덱스에 해당하는 원소만 1을 더하기 (인덱스는 중복 가능)"
   ]
  },
  {
   "cell_type": "code",
   "execution_count": 44,
   "metadata": {
    "collapsed": false
   },
   "outputs": [
    {
     "name": "stdout",
     "output_type": "stream",
     "text": [
      "[ 2.  4.  1.  3.  3.  3.  4.  1.  3.  6.]\n"
     ]
    }
   ],
   "source": [
    "# Author: Brett Olsen\n",
    "\n",
    "Z = np.ones(10)\n",
    "I = np.random.randint(0, len(Z), 20)\n",
    "Z += np.bincount(I, minlength = len(Z))\n",
    "print Z"
   ]
  },
  {
   "cell_type": "markdown",
   "metadata": {},
   "source": [
    "39\\. 인덱스 리스트 (I)에 기반하여 벡터 리스트 (X)를 어레이 (F)에 accumulate하기"
   ]
  },
  {
   "cell_type": "code",
   "execution_count": 45,
   "metadata": {
    "collapsed": false
   },
   "outputs": [
    {
     "name": "stdout",
     "output_type": "stream",
     "text": [
      "[ 0.  7.  0.  6.  5.  0.  0.  0.  0.  3.]\n"
     ]
    }
   ],
   "source": [
    "# Author: Alan G Isaac\n",
    "\n",
    "X = [1, 2, 3, 4, 5, 6]\n",
    "I = [1, 3, 9, 3, 4, 1]\n",
    "F = np.bincount(I, X)\n",
    "print F"
   ]
  },
  {
   "cell_type": "markdown",
   "metadata": {},
   "source": [
    "40\\. (w, h, 3, dtype = ubyte) 이미지가 주어졌을때, 색들의 종류의 개수를 구하기"
   ]
  },
  {
   "cell_type": "code",
   "execution_count": 54,
   "metadata": {
    "collapsed": false
   },
   "outputs": [
    {
     "name": "stdout",
     "output_type": "stream",
     "text": [
      "4\n"
     ]
    }
   ],
   "source": [
    "# Author: Nadav Horesh\n",
    "\n",
    "w, h = 16, 16\n",
    "I = np.random.randint(0, 2, (h, w, 3)).astype(np.ubyte)\n",
    "F = I[..., 0] * 256 * 256 + I[..., 1] * 256 + I[..., 2]\n",
    "n = len(np.unique(F))\n",
    "print n"
   ]
  },
  {
   "cell_type": "markdown",
   "metadata": {},
   "source": [
    "41\\. 사차원 어레이가 주어졌을때, 마지막 두 차원의 합을 한번에 구하기"
   ]
  },
  {
   "cell_type": "code",
   "execution_count": 56,
   "metadata": {
    "collapsed": false
   },
   "outputs": [
    {
     "name": "stdout",
     "output_type": "stream",
     "text": [
      "[[61 62 68 47]\n",
      " [65 78 66 50]\n",
      " [47 45 71 52]]\n"
     ]
    }
   ],
   "source": [
    "A = np.random.randint(0, 10, (3, 4, 3, 4))\n",
    "s = A.reshape(A.shape[:-2] + (-1, )).sum(axis = -1)\n",
    "print s"
   ]
  },
  {
   "cell_type": "markdown",
   "metadata": {},
   "source": [
    "42\\. 일차원 벡터 어레이 D와 D의 각 원소가 속한 그룹을 적은 어레이 S가 주어졌을 때, 각 그룹별로 평균 구하기"
   ]
  },
  {
   "cell_type": "code",
   "execution_count": 58,
   "metadata": {
    "collapsed": false
   },
   "outputs": [
    {
     "name": "stdout",
     "output_type": "stream",
     "text": [
      "[ 0.48382992  0.90163571  0.54716449  0.09760475  0.81336974  0.31569926\n",
      "  0.06925325  0.1088752   0.05644463  0.36409249  0.61086745  0.99354844\n",
      "  0.79099137  0.19085004  0.37591572  0.36363514  0.36002937  0.03276379\n",
      "  0.82852912  0.72398069  0.29040903  0.9239412   0.18390104  0.04147982\n",
      "  0.2582508   0.07084409  0.36050842  0.90976074  0.9707976   0.92706072\n",
      "  0.29364913  0.12871104  0.04625282  0.14430105  0.67503529  0.04297835\n",
      "  0.19919423  0.42772349  0.06416773  0.51651087  0.24866954  0.95657255\n",
      "  0.41636186  0.1595344   0.30314971  0.58484857  0.56706807  0.37222296\n",
      "  0.15940645  0.8879628   0.33420632  0.71924269  0.95663494  0.69470347\n",
      "  0.0845525   0.83658585  0.17898707  0.2128273   0.65112787  0.84272005\n",
      "  0.10845893  0.56601011  0.21470339  0.56388527  0.54951486  0.77580283\n",
      "  0.6254823   0.57450002  0.4935419   0.10908025  0.76210341  0.40628984\n",
      "  0.10377035  0.38436459  0.45699098  0.85246212  0.07010238  0.06801495\n",
      "  0.80195364  0.33760965  0.50432301  0.71808764  0.16802952  0.14031843\n",
      "  0.96844914  0.17756661  0.12855987  0.70086319  0.8538318   0.77602844\n",
      "  0.35330442  0.89369087  0.71863978  0.88600036  0.04551413  0.0853137\n",
      "  0.27009865  0.61219287  0.82041717  0.9392627 ] [0 1 4 9 8 7 3 4 5 6 7 3 0 4 1 7 7 7 9 1 4 4 2 6 7 6 3 7 6 0 0 4 4 9 5 8 2\n",
      " 8 2 9 1 6 8 6 0 1 0 5 7 8 8 3 2 8 7 2 3 1 8 3 2 6 6 4 3 9 2 7 5 6 3 7 3 8\n",
      " 9 0 8 7 8 7 2 1 9 4 6 7 4 5 4 8 2 5 0 4 7 0 6 7 2 8] [ 5.02216452  3.76596517  4.65246961  4.57964854  4.80879955  3.19179884\n",
      "  4.69166249  5.31665358  7.24014566  2.98776912]\n"
     ]
    }
   ],
   "source": [
    "# Author: Jaime Fernández del Río\n",
    "\n",
    "D = np.random.uniform(0, 1, 100)\n",
    "S = np.random.randint(0, 10, 100)\n",
    "D_sums = np.bincount(S, weights = D)\n",
    "D_counts = np.bincount(S)\n",
    "D_means = D_sums / D_counts\n",
    "print D, S, D_sums"
   ]
  },
  {
   "cell_type": "code",
   "execution_count": null,
   "metadata": {
    "collapsed": true
   },
   "outputs": [],
   "source": []
  }
 ],
 "metadata": {
  "kernelspec": {
   "display_name": "Python 2",
   "language": "python",
   "name": "python2"
  },
  "language_info": {
   "codemirror_mode": {
    "name": "ipython",
    "version": 2
   },
   "file_extension": ".py",
   "mimetype": "text/x-python",
   "name": "python",
   "nbconvert_exporter": "python",
   "pygments_lexer": "ipython2",
   "version": "2.7.10"
  }
 },
 "nbformat": 4,
 "nbformat_minor": 0
}
